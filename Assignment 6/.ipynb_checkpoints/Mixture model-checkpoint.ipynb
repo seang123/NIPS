{
 "cells": [
  {
   "cell_type": "markdown",
   "metadata": {},
   "source": [
    "## Packages"
   ]
  },
  {
   "cell_type": "code",
   "execution_count": 4,
   "metadata": {},
   "outputs": [
    {
     "ename": "ModuleNotFoundError",
     "evalue": "No module named 'tensorflow'",
     "output_type": "error",
     "traceback": [
      "\u001b[1;31m---------------------------------------------------------------------------\u001b[0m",
      "\u001b[1;31mModuleNotFoundError\u001b[0m                       Traceback (most recent call last)",
      "\u001b[1;32m<ipython-input-4-f21cb17271bf>\u001b[0m in \u001b[0;36m<module>\u001b[1;34m\u001b[0m\n\u001b[0;32m      4\u001b[0m \u001b[1;32mfrom\u001b[0m \u001b[0mtqdm\u001b[0m \u001b[1;32mimport\u001b[0m \u001b[0mtqdm\u001b[0m\u001b[1;33m\u001b[0m\u001b[1;33m\u001b[0m\u001b[0m\n\u001b[0;32m      5\u001b[0m \u001b[1;32mimport\u001b[0m \u001b[0mrandom\u001b[0m\u001b[1;33m\u001b[0m\u001b[1;33m\u001b[0m\u001b[0m\n\u001b[1;32m----> 6\u001b[1;33m \u001b[1;32mimport\u001b[0m \u001b[0mtensorflow\u001b[0m\u001b[1;33m\u001b[0m\u001b[1;33m\u001b[0m\u001b[0m\n\u001b[0m",
      "\u001b[1;31mModuleNotFoundError\u001b[0m: No module named 'tensorflow'"
     ]
    }
   ],
   "source": [
    "import numpy as np\n",
    "import pandas as pd\n",
    "import matplotlib.pyplot as plt\n",
    "from tqdm import tqdm\n",
    "import random\n",
    "import tensorflow"
   ]
  },
  {
   "cell_type": "code",
   "execution_count": 3,
   "metadata": {},
   "outputs": [
    {
     "ename": "ModuleNotFoundError",
     "evalue": "No module named 'tensorflow'",
     "output_type": "error",
     "traceback": [
      "\u001b[1;31m---------------------------------------------------------------------------\u001b[0m",
      "\u001b[1;31mModuleNotFoundError\u001b[0m                       Traceback (most recent call last)",
      "\u001b[1;32m<ipython-input-3-d3b2b5bac1ae>\u001b[0m in \u001b[0;36m<module>\u001b[1;34m\u001b[0m\n\u001b[1;32m----> 1\u001b[1;33m \u001b[1;32mfrom\u001b[0m \u001b[0mtensorflow\u001b[0m\u001b[1;33m.\u001b[0m\u001b[0mkeras\u001b[0m\u001b[1;33m.\u001b[0m\u001b[0mdatasets\u001b[0m \u001b[1;32mimport\u001b[0m \u001b[0mmnist\u001b[0m\u001b[1;33m\u001b[0m\u001b[1;33m\u001b[0m\u001b[0m\n\u001b[0m\u001b[0;32m      2\u001b[0m \u001b[1;33m\u001b[0m\u001b[0m\n\u001b[0;32m      3\u001b[0m \u001b[0mtrain_images\u001b[0m \u001b[1;33m=\u001b[0m \u001b[0mmnist\u001b[0m\u001b[1;33m.\u001b[0m\u001b[0mtrain_images\u001b[0m\u001b[1;33m(\u001b[0m\u001b[1;33m)\u001b[0m\u001b[1;33m\u001b[0m\u001b[1;33m\u001b[0m\u001b[0m\n\u001b[0;32m      4\u001b[0m \u001b[0mtrain_labels\u001b[0m \u001b[1;33m=\u001b[0m \u001b[0mmnist\u001b[0m\u001b[1;33m.\u001b[0m\u001b[0mtrain_labels\u001b[0m\u001b[1;33m(\u001b[0m\u001b[1;33m)\u001b[0m\u001b[1;33m\u001b[0m\u001b[1;33m\u001b[0m\u001b[0m\n\u001b[0;32m      5\u001b[0m \u001b[1;33m\u001b[0m\u001b[0m\n",
      "\u001b[1;31mModuleNotFoundError\u001b[0m: No module named 'tensorflow'"
     ]
    }
   ],
   "source": [
    "from tensorflow.keras.datasets import mnist\n",
    "\n",
    "train_images = mnist.train_images()\n",
    "train_labels = mnist.train_labels()\n",
    "\n",
    "test_images = mnist.test_images()\n",
    "test_labels = mnist.test_labels()\n",
    "\n",
    "train_images = train_images.reshape((train_images.shape[0], train_images.shape[1]*train_images.shape[2]))\n",
    "train_images[train_images>0] = 1. "
   ]
  },
  {
   "cell_type": "code",
   "execution_count": 7,
   "metadata": {},
   "outputs": [
    {
     "data": {
      "image/png": "[encoded data removed]",
      "text/plain": [
       "<Figure size 432x288 with 1 Axes>"
      ]
     },
     "metadata": {
      "needs_background": "light"
     },
     "output_type": "display_data"
    }
   ],
   "source": [
    "#to show an image:\n",
    "first_image = train_images[100]\n",
    "first_image = np.array(first_image, dtype='float')\n",
    "pixels = first_image.reshape((28, 28))\n",
    "plt.imshow(pixels, cmap='gray')\n",
    "plt.show()"
   ]
  },
  {
   "cell_type": "code",
   "execution_count": 22,
   "metadata": {},
   "outputs": [],
   "source": [
    "N = train_images.shape[0]\n",
    "d = train_images.shape[1]\n",
    "K = 10"
   ]
  },
  {
   "cell_type": "markdown",
   "metadata": {},
   "source": [
    "$$p(x^\\mu,k) = p(k)p(x^\\mu|k) = \\pi_k \\times \\prod_{j=1}^{d} \\mu_{jk}^{x_j}(1-\\mu_{jk})^{1-x_j}$$"
   ]
  },
  {
   "cell_type": "code",
   "execution_count": 13,
   "metadata": {},
   "outputs": [],
   "source": [
    "N=3\n",
    "d=4\n",
    "K=2\n",
    "train_images = np.array([[0,1,1,0],[1,0,0,0],[0,1,0,1]])"
   ]
  },
  {
   "cell_type": "code",
   "execution_count": 32,
   "metadata": {},
   "outputs": [
    {
     "name": "stderr",
     "output_type": "stream",
     "text": [
      "\r",
      "  0%|                                                                                           | 0/10 [00:00<?, ?it/s]"
     ]
    },
    {
     "name": "stdout",
     "output_type": "stream",
     "text": [
      "[0.1 0.1 0.1 0.1 0.1 0.1 0.1 0.1 0.1 0.1]\n"
     ]
    },
    {
     "name": "stderr",
     "output_type": "stream",
     "text": [
      "\r",
      " 10%|████████▎                                                                          | 1/10 [00:12<01:55, 12.86s/it]"
     ]
    },
    {
     "name": "stdout",
     "output_type": "stream",
     "text": [
      "(784, 10)\n",
      "[0. 2. 2. ... 9. 2. 2.]\n",
      "{0.0: 2152, 2.0: 53628, 3.0: 512, 6.0: 132, 7.0: 174, 8.0: 22, 9.0: 3380}\n",
      "[ 2152     0 53628   512     0     0   132   174    22  3380]\n"
     ]
    },
    {
     "name": "stderr",
     "output_type": "stream",
     "text": [
      "\r",
      " 20%|████████████████▌                                                                  | 2/10 [00:24<01:40, 12.61s/it]"
     ]
    },
    {
     "name": "stdout",
     "output_type": "stream",
     "text": [
      "(784, 10)\n",
      "[2. 2. 9. ... 2. 2. 2.]\n",
      "{2.0: 37520, 3.0: 5242, 7.0: 6260, 9.0: 10978}\n",
      "[    0     0 37520  5242     0     0     0  6260     0 10978]\n"
     ]
    },
    {
     "name": "stderr",
     "output_type": "stream",
     "text": [
      "\r",
      " 30%|████████████████████████▉                                                          | 3/10 [00:37<01:29, 12.73s/it]"
     ]
    },
    {
     "name": "stdout",
     "output_type": "stream",
     "text": [
      "(784, 10)\n",
      "[2. 2. 9. ... 2. 2. 2.]\n",
      "{2.0: 32240, 3.0: 5042, 7.0: 8530, 9.0: 14188}\n",
      "[    0     0 32240  5042     0     0     0  8530     0 14188]\n"
     ]
    },
    {
     "name": "stderr",
     "output_type": "stream",
     "text": [
      "\r",
      " 40%|█████████████████████████████████▏                                                 | 4/10 [00:50<01:15, 12.56s/it]"
     ]
    },
    {
     "name": "stdout",
     "output_type": "stream",
     "text": [
      "(784, 10)\n",
      "[2. 2. 9. ... 2. 2. 2.]\n",
      "{2.0: 29332, 3.0: 5242, 7.0: 9868, 9.0: 15558}\n",
      "[    0     0 29332  5242     0     0     0  9868     0 15558]\n"
     ]
    },
    {
     "name": "stderr",
     "output_type": "stream",
     "text": [
      "\r",
      " 50%|█████████████████████████████████████████▌                                         | 5/10 [01:01<01:01, 12.32s/it]"
     ]
    },
    {
     "name": "stdout",
     "output_type": "stream",
     "text": [
      "(784, 10)\n",
      "[2. 2. 9. ... 2. 2. 2.]\n",
      "{2.0: 27504, 3.0: 5422, 7.0: 10590, 9.0: 16484}\n",
      "[    0     0 27504  5422     0     0     0 10590     0 16484]\n"
     ]
    },
    {
     "name": "stderr",
     "output_type": "stream",
     "text": [
      "\r",
      " 60%|█████████████████████████████████████████████████▊                                 | 6/10 [01:13<00:48, 12.08s/it]"
     ]
    },
    {
     "name": "stdout",
     "output_type": "stream",
     "text": [
      "(784, 10)\n",
      "[2. 2. 9. ... 9. 2. 2.]\n",
      "{2.0: 26580, 3.0: 5656, 7.0: 10941, 9.0: 16823}\n",
      "[    0     0 26580  5656     0     0     0 10941     0 16823]\n"
     ]
    },
    {
     "name": "stderr",
     "output_type": "stream",
     "text": [
      "\r",
      " 70%|██████████████████████████████████████████████████████████                         | 7/10 [01:25<00:36, 12.17s/it]"
     ]
    },
    {
     "name": "stdout",
     "output_type": "stream",
     "text": [
      "(784, 10)\n",
      "[2. 2. 9. ... 9. 2. 2.]\n",
      "{2.0: 26034, 3.0: 5874, 7.0: 10941, 9.0: 17151}\n",
      "[    0     0 26034  5874     0     0     0 10941     0 17151]\n"
     ]
    },
    {
     "name": "stderr",
     "output_type": "stream",
     "text": [
      "\r",
      " 80%|██████████████████████████████████████████████████████████████████▍                | 8/10 [01:37<00:24, 12.04s/it]"
     ]
    },
    {
     "name": "stdout",
     "output_type": "stream",
     "text": [
      "(784, 10)\n",
      "[2. 2. 9. ... 9. 2. 2.]\n",
      "{2.0: 25451, 3.0: 6115, 7.0: 10941, 9.0: 17493}\n",
      "[    0     0 25451  6115     0     0     0 10941     0 17493]\n"
     ]
    },
    {
     "name": "stderr",
     "output_type": "stream",
     "text": [
      "\r",
      " 90%|██████████████████████████████████████████████████████████████████████████▋        | 9/10 [01:49<00:11, 11.96s/it]"
     ]
    },
    {
     "name": "stdout",
     "output_type": "stream",
     "text": [
      "(784, 10)\n",
      "[2. 2. 9. ... 9. 2. 2.]\n",
      "{2.0: 25451, 3.0: 6115, 7.0: 10941, 9.0: 17493}\n",
      "[    0     0 25451  6115     0     0     0 10941     0 17493]\n"
     ]
    },
    {
     "name": "stderr",
     "output_type": "stream",
     "text": [
      "100%|██████████████████████████████████████████████████████████████████████████████████| 10/10 [02:00<00:00, 12.08s/it]"
     ]
    },
    {
     "name": "stdout",
     "output_type": "stream",
     "text": [
      "(784, 10)\n",
      "[2. 2. 9. ... 9. 2. 2.]\n",
      "{2.0: 25451, 3.0: 6115, 7.0: 10941, 9.0: 17493}\n",
      "[    0     0 25451  6115     0     0     0 10941     0 17493]\n"
     ]
    },
    {
     "name": "stderr",
     "output_type": "stream",
     "text": [
      "\n"
     ]
    }
   ],
   "source": [
    "pi_k = np.empty(K)\n",
    "pi_k.fill(1/K)#np.random.rand(K)\n",
    "print(pi_k)\n",
    "pi_k = pi_k/np.sum(pi_k) #normalize\n",
    "\n",
    "mu_k = np.random.rand(d,K)#np.array([[0.3,0.4],[0.4,0.2],[0.1,0.6],[0.3,0.7]]) #\n",
    "#print(mu_k.shape)\n",
    "\n",
    "n_iterations = 10\n",
    "for t in tqdm(range(1, n_iterations+1)):\n",
    "    k = np.zeros(N)\n",
    "    for n in range(N):\n",
    "        sub = mu_k**train_images[n].reshape((-1,1)) * (1-mu_k)**(1-train_images[n].reshape((-1,1)))\n",
    "        #sub = np.power(mu_k,train_images[n].reshape((-1,1)))*np.power((1-mu_k),(1-train_images[n].reshape((-1,1))))\n",
    "        #print(sub.shape)\n",
    "        p_x_k = np.prod(sub,axis=0)#/K\n",
    "        #print(p_x_k)\n",
    "        k[n] = np.argmax(p_x_k*pi_k)\n",
    "    \n",
    "    print(sub.shape)\n",
    "    print(k)\n",
    "    \n",
    "    unique, counts = np.unique(k, return_counts=True)\n",
    "    mapping = dict(zip(unique, counts))\n",
    "    print(mapping)\n",
    "    N_k = np.array([mapping.get(key, 0) for key in range(K)])\n",
    "    print(N_k)\n",
    "    pi_k = N_k/N\n",
    "    \n",
    "    m_jk = np.zeros((d,K))\n",
    "    for mu in range(K):\n",
    "        m_jk[:,mu] = np.mean(train_images[k == mu,:])#np.sum(train_images[k == mu,:],axis=0) / N_k[mu]\n",
    "        \n",
    "    m_jk[np.isnan(m_jk)] = 0.\n",
    "    mu_k = m_jk\n",
    "    "
   ]
  },
  {
   "cell_type": "code",
   "execution_count": 33,
   "metadata": {},
   "outputs": [
    {
     "name": "stdout",
     "output_type": "stream",
     "text": [
      "0.89765\n",
      "[2. 3. 7. 9.]\n",
      "[0.00000000e+000 0.00000000e+000 4.76517557e-163 4.87055728e-173\n",
      " 0.00000000e+000 0.00000000e+000 0.00000000e+000 1.73870245e-169\n",
      " 0.00000000e+000 1.59360156e-163]\n"
     ]
    }
   ],
   "source": [
    "error = np.mean(k!=train_labels)\n",
    "print(error)\n",
    "print(np.unique(k))\n",
    "print(p_x_k)"
   ]
  }
 ],
 "metadata": {
  "kernelspec": {
   "display_name": "Python 3",
   "language": "python",
   "name": "python3"
  },
  "language_info": {
   "codemirror_mode": {
    "name": "ipython",
    "version": 3
   },
   "file_extension": ".py",
   "mimetype": "text/x-python",
   "name": "python",
   "nbconvert_exporter": "python",
   "pygments_lexer": "ipython3",
   "version": "3.6.10"
  }
 },
 "nbformat": 4,
 "nbformat_minor": 4
}
