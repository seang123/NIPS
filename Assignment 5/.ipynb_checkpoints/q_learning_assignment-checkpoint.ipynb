{
 "cells": [
  {
   "cell_type": "markdown",
   "metadata": {},
   "source": [
    "    Sean Gies\n",
    "    s4783670\n",
    "    14 - 10 - 2020"
   ]
  },
  {
   "cell_type": "markdown",
   "metadata": {},
   "source": [
    "In this assignment you will learn to implement neural q learning. You will learn to control a Brownian particle from noisy observations. The goal of the agent is to bring the particle as close as possible to zero. All code is provided except the learning part. Your goal is to implement the learn function of the QAgent. The plotting functions in the end should indicate that indeed the agent learns to control the particle's location."
   ]
  },
  {
   "cell_type": "markdown",
   "metadata": {},
   "source": [
    "$\\textbf{SARSA}$ algorithm\n",
    "\n",
    "$$Q(S_t, A_t) <- Q(S_t,A_t) + \\alpha[R_{t+1} + \\gamma Q(S_{t+1}, A_{t+1}) - Q(S_t, A_t)]$$\n",
    "\n",
    "$\\textbf{Temporal difference}$ mean-squared error\n",
    "\n",
    "$$\\mathcal{L(\\theta)} = \\mathbb{E}[(r_{t+1} + \\gamma \\max_{a}Q(S_{t+1}, a) - Q(S_t, A_t))^2]$$"
   ]
  },
  {
   "cell_type": "markdown",
   "metadata": {},
   "source": [
    "### Notes\n",
    "\n",
    "\n",
    "+ If we ignore the epsilon-greedy strategy and simply take the best action for every state in the learn() function of the Q-agent then our agent performs very well, with the loss dropping to 0 in under 500 steps.\n",
    "\n",
    "---\n",
    "\n",
    "+ Taking the label for the L2loss function as Q[action] tends to cause the final graph to show arrows pointing towards 0 but only from one side ( either left or right )\n",
    "\n",
    "---"
   ]
  },
  {
   "cell_type": "code",
   "execution_count": 1,
   "metadata": {},
   "outputs": [],
   "source": [
    "import matplotlib.pyplot as plt\n",
    "import numpy as np\n",
    "import tqdm\n",
    "import gym\n",
    "import mxnet as mx\n",
    "from mxnet import autograd, gluon, nd, init\n",
    "from mxnet.gluon import nn, Block\n",
    "from mxnet.gluon.nn import LeakyReLU"
   ]
  },
  {
   "cell_type": "code",
   "execution_count": 2,
   "metadata": {},
   "outputs": [],
   "source": [
    "\n",
    "class ControlledBrownianMotion(gym.Env):\n",
    "    \"\"\"\n",
    "    Implements controlled Brownian motion in n dimensions\n",
    "\n",
    "    For OpenAI gym see:\n",
    "    \n",
    "    https://github.com/openai/gym/blob/master/gym/core.py\n",
    "    https://gym.openai.com/docs/#spaces\n",
    "\n",
    "    \"\"\"\n",
    "\n",
    "    def __init__(self, n_dim = 1, state_noise=1.0, obs_noise=1.0, act_mag=1.0):\n",
    "\n",
    "        self.n_dim = n_dim\n",
    "\n",
    "        # state space is R^n\n",
    "        self.state_space = gym.spaces.Box(low=-np.inf, high=np.inf, shape=(n_dim,), dtype=np.float32)\n",
    "\n",
    "        # state space is R^n\n",
    "        self.obs_space = gym.spaces.Box(low=-np.inf, high=np.inf, shape=(n_dim,), dtype=np.float32)\n",
    "\n",
    "        # action space is a discrete choice of 0 'left', 1 'stay' and 2 'right' per dimension\n",
    "        self.action_space = gym.spaces.Discrete(3**n_dim)\n",
    "\n",
    "        # current state of the particle\n",
    "        self.state = self.state_space.sample()\n",
    "\n",
    "        # variance of the state update in each dimension\n",
    "        self.state_noise = state_noise\n",
    "\n",
    "        # variance of the observation in each dimension\n",
    "        self.obs_noise = obs_noise\n",
    "\n",
    "        # magnitude of the action\n",
    "        self.act_mag = act_mag\n",
    "\n",
    "    def reset(self):\n",
    "\n",
    "        self.state = self.state_space.sample()\n",
    "        \n",
    "        return self.observe(self.state, None)\n",
    "\n",
    "    def observe(self, state, action):\n",
    "        \"\"\"\n",
    "            Observation is a draw from a MVN with mean state and diagonal covariance\n",
    "        \"\"\"\n",
    "        \n",
    "        if self.obs_noise > 0.0:\n",
    "            return np.atleast_2d(np.random.multivariate_normal(self.state, self.obs_noise * np.eye(self.n_dim)))\n",
    "        else:\n",
    "            return np.atleast_2d(self.state)\n",
    "\n",
    "    def step(self, action):\n",
    "        \n",
    "        if self.state_noise > 0.0:\n",
    "            self.state = np.random.multivariate_normal(self.state, self.state_noise * np.eye(self.n_dim))\n",
    "\n",
    "        self.state = self.state + self.act_mag * (np.array(np.unravel_index(action, [3] * self.n_dim)) - 1)\n",
    "\n",
    "        obs = self.observe(self.state, action)\n",
    "\n",
    "        reward = - np.linalg.norm(self.state)\n",
    "\n",
    "        return obs, reward, False, None\n",
    "\n",
    "    def render(self, mode='human'):\n",
    "        pass"
   ]
  },
  {
   "cell_type": "code",
   "execution_count": 3,
   "metadata": {},
   "outputs": [],
   "source": [
    "class Agent():\n",
    "    \"\"\"\n",
    "    Base class for reinforcement learning agents\n",
    "    \"\"\"\n",
    "\n",
    "    def __init__(self, env = None):\n",
    "\n",
    "        self.env = env\n",
    "\n",
    "    def act(self, obs):\n",
    "        return self.env.action_space.sample() # sample random action\n",
    "\n",
    "    def learn(self, obs, action, reward, new_obs):\n",
    "        pass\n",
    "\n",
    "    def reset(self):\n",
    "        pass\n",
    "\n",
    "class QNetwork(gluon.nn.Block):\n",
    "    \"\"\"\n",
    "    Neural network to predict q values from observations\n",
    "    \"\"\"\n",
    "\n",
    "    def __init__(self, n_hidden, n_actions):\n",
    "        super().__init__()\n",
    "\n",
    "        self.dense0 = gluon.nn.Dense(n_hidden, activation='relu')\n",
    "        self.dense1 = gluon.nn.Dense(n_actions)\n",
    "\n",
    "    def forward(self, state):\n",
    "        \"\"\"\n",
    "        return\n",
    "        ------\n",
    "            an action value indicating the expected future reward for each action\n",
    "        \"\"\"\n",
    "        return self.dense1(self.dense0(state))\n",
    "\n",
    "class QAgent(Agent):\n",
    "    \"\"\"\n",
    "    Agent that implements q learning\n",
    "    \"\"\"\n",
    "\n",
    "    def __init__(self, env, model, ctx=mx.cpu(), learning_rate=0.01, gamma=0.95, init_epsilon=1.0, eps=0.01):\n",
    "        super().__init__(env)\n",
    "\n",
    "        # set model\n",
    "        self.model = model\n",
    "        \n",
    "        # set loss function\n",
    "        self.loss = gluon.loss.L2Loss()\n",
    "\n",
    "        # setup an optimizer\n",
    "        self.optimizer = gluon.Trainer(model.collect_params(), 'adam', {'learning_rate': learning_rate})\n",
    "\n",
    "        # discounting factor\n",
    "        self.gamma = gamma\n",
    "        \n",
    "        # learning rate\n",
    "        self.learning_rate = learning_rate\n",
    "\n",
    "        # epsilon greedy\n",
    "        self.init_epsilon = init_epsilon\n",
    "        self.epsilon = init_epsilon\n",
    "        self.eps = eps\n",
    "\n",
    "    def act(self, obs):\n",
    "\n",
    "        if np.random.rand() < self.epsilon:\n",
    "             # epsilon greedy\n",
    "            action = env.action_space.sample()\n",
    "        else:            \n",
    "            # Choose action with maximal q value\n",
    "            action = np.argmax(self.model(nd.array(obs, ctx=ctx)).asnumpy())\n",
    "\n",
    "        self.epsilon = np.max([0.0, self.epsilon - self.eps])\n",
    "\n",
    "        return action\n",
    "\n",
    "    def learn(self, obs, action, reward, new_obs):\n",
    "        \"\"\"\n",
    "        You will need to implement this function. That is compute the temporal difference error and perform gradient descent on this.\n",
    "        \n",
    "        Because of epsilon-greedy strat we don't always take the action with the max-q value for the current state\n",
    "        \n",
    "        Parameters\n",
    "        ----------\n",
    "            obs     : (1,1) : observation at t\n",
    "            action  : Int   : action taken from obs -> new_obs\n",
    "            reward  : ()    : reward at t+1\n",
    "            new_obs : (1,1) : observation at t+1\n",
    "        Return\n",
    "        ------\n",
    "            loss : L2 (mean-squared) loss between predicted state and actual state\n",
    "        \"\"\"        \n",
    "        with autograd.record():\n",
    "            ## q value of current state (3 values)\n",
    "            q_t = self.model.forward(mx.ndarray.array(obs))\n",
    "            \n",
    "            # take the q-value for the given action\n",
    "            q_t = q_t[0][action]\n",
    "\n",
    "            ## q value of next state (3 values)\n",
    "            q_t2 = self.model.forward(mx.ndarray.array(new_obs)) \n",
    "\n",
    "            ## action with max value\n",
    "            max_a = np.max(q_t2)\n",
    "\n",
    "            ## expected loss equation between current state and next state\n",
    "            L = (reward + self.gamma * max_a - q_t)**2\n",
    "        \n",
    "            ## L2loss between current state (label) and expected loss next step (prediction)\n",
    "            l = self.loss(L, q_t) \n",
    "            \n",
    "        # gradient descent backwards pass\n",
    "        l.backward()\n",
    "        self.optimizer.step(300) # parameter: batch_size\n",
    "\n",
    "        # need to convert from mxnet array to numpy array for plotting purposes\n",
    "        return l.asnumpy()[0]\n",
    "\n",
    "    def reset(self):\n",
    "        self.epsilon = self.init_epsilon"
   ]
  },
  {
   "cell_type": "code",
   "execution_count": 4,
   "metadata": {
    "tags": []
   },
   "outputs": [
    {
     "name": "stderr",
     "output_type": "stream",
     "text": [
      "100%|█████████████████████████████████████████████████████████████████████████████| 5000/5000 [00:26<00:00, 187.04it/s]\n"
     ]
    }
   ],
   "source": [
    "seed = 3333333\n",
    "np.random.seed(seed)\n",
    "mx.random.seed(seed)\n",
    "\n",
    "buffer = {}\n",
    "buffer['state'] = []\n",
    "buffer['observation'] = []\n",
    "buffer['action'] = []\n",
    "buffer['reward'] = []\n",
    "buffer['loss'] = []\n",
    "\n",
    "# epsilon-greedy parameters : decreases over time to facilitate exploitation\n",
    "init_epsilon=1.0\n",
    "final_epsilon=0.01\n",
    "T=5000\n",
    "\n",
    "ctx = mx.cpu()\n",
    "\n",
    "# initilise the brownian random motion environment\n",
    "env = ControlledBrownianMotion(n_dim=1, state_noise=0.1, obs_noise=0.1, act_mag=1.0)\n",
    "\n",
    "# initilise the Qnetwork \n",
    "model = QNetwork(n_hidden=20, n_actions=3**env.n_dim)\n",
    "model.initialize(ctx=ctx)\n",
    "\n",
    "# initilise the agent\n",
    "agent = QAgent(env, model, ctx=ctx, learning_rate=0.001, gamma=0.95, init_epsilon=init_epsilon, eps = (init_epsilon - final_epsilon) / T)\n",
    "\n",
    "obs = env.reset()\n",
    "agent.reset()\n",
    "for t in tqdm.trange(T):\n",
    "\n",
    "    env.render()\n",
    "    \n",
    "    # select action\n",
    "    action = agent.act(obs)\n",
    "\n",
    "    # Perform the selected action, get the reward, and a new observation for the next round\n",
    "    new_obs, reward, done, info = env.step(action)\n",
    "    \n",
    "    # Adjust agent parameters (training step)\n",
    "    loss = agent.learn(obs, action, reward, new_obs)\n",
    "\n",
    "    buffer['state'].append(env.state)\n",
    "    buffer['observation'].append(obs)\n",
    "    buffer['action'].append(action)\n",
    "    buffer['reward'].append(reward)\n",
    "    buffer['loss'].append(loss)\n",
    "\n",
    "    # Update observation variable\n",
    "    obs = new_obs\n",
    "\n",
    "    if done:\n",
    "        break\n",
    "        \n",
    "\n",
    "env.close()"
   ]
  },
  {
   "cell_type": "code",
   "execution_count": 5,
   "metadata": {},
   "outputs": [
    {
     "data": {
      "image/png": "[encoded data removed]",
      "text/plain": [
       "<Figure size 576x576 with 1 Axes>"
      ]
     },
     "metadata": {
      "needs_background": "light"
     },
     "output_type": "display_data"
    }
   ],
   "source": [
    "# plot states\n",
    "\n",
    "fig, ax = plt.subplots(1, 1, figsize=(8, 8))\n",
    "for t in range(len(buffer['state'])-1):\n",
    "    x1 = buffer['state'][t][0]\n",
    "    x2 = buffer['state'][t+1][0]\n",
    "    ax.plot([t, t+1], [x1, x2], 'C0')\n",
    "ax.set_xlabel('t')\n",
    "ax.set_ylabel('x')\n",
    "ax.set_title('State');"
   ]
  },
  {
   "cell_type": "code",
   "execution_count": 6,
   "metadata": {},
   "outputs": [
    {
     "data": {
      "image/png": "[encoded data removed]",
      "text/plain": [
       "<Figure size 576x576 with 1 Axes>"
      ]
     },
     "metadata": {
      "needs_background": "light"
     },
     "output_type": "display_data"
    }
   ],
   "source": [
    "# plot reward\n",
    "\n",
    "fig, ax = plt.subplots(1, 1, figsize=(8, 8))\n",
    "ax.plot(np.cumsum(buffer['reward']))\n",
    "ax.set_title('Cumulative reward')\n",
    "ax.set_xlabel('t')\n",
    "ax.set_ylabel('reward');"
   ]
  },
  {
   "cell_type": "code",
   "execution_count": 7,
   "metadata": {},
   "outputs": [
    {
     "data": {
      "image/png": "[encoded data removed]",
      "text/plain": [
       "<Figure size 576x576 with 1 Axes>"
      ]
     },
     "metadata": {
      "needs_background": "light"
     },
     "output_type": "display_data"
    }
   ],
   "source": [
    "# plot loss\n",
    "\n",
    "fig, ax = plt.subplots(1, 1, figsize=(8, 8))\n",
    "ax.plot(buffer['loss'])\n",
    "ax.set_title('Loss')\n",
    "ax.set_xlabel('t')\n",
    "ax.set_ylabel('loss');"
   ]
  },
  {
   "cell_type": "code",
   "execution_count": 8,
   "metadata": {},
   "outputs": [
    {
     "data": {
      "image/png": "[encoded data removed]",
      "text/plain": [
       "<Figure size 576x576 with 1 Axes>"
      ]
     },
     "metadata": {
      "needs_background": "light"
     },
     "output_type": "display_data"
    }
   ],
   "source": [
    "# plot policy\n",
    "\n",
    "fig, ax = plt.subplots(1, 1, figsize=(8, 8))\n",
    "n=10\n",
    "x = np.arange(-n, n, 1)\n",
    "u = np.zeros(x.size)\n",
    "for i in range(x.size):\n",
    "    qvalues = model(nd.array([x[i]], ctx=ctx))\n",
    "    action = env.act_mag * (np.array(np.unravel_index(np.argmax(qvalues.asnumpy(), axis=1), [3] * env.n_dim)) - 1)\n",
    "    u[i] = action[0]\n",
    "ax.quiver(x, 0, u, 0, scale=1.5, units='xy')\n",
    "ax.set_title('Policy')\n",
    "ax.set_xlabel('state');"
   ]
  }
 ],
 "metadata": {
  "kernelspec": {
   "display_name": "Python 3",
   "language": "python",
   "name": "python3"
  },
  "language_info": {
   "codemirror_mode": {
    "name": "ipython",
    "version": 3
   },
   "file_extension": ".py",
   "mimetype": "text/x-python",
   "name": "python",
   "nbconvert_exporter": "python",
   "pygments_lexer": "ipython3",
   "version": "3.6.10"
  }
 },
 "nbformat": 4,
 "nbformat_minor": 2
}
