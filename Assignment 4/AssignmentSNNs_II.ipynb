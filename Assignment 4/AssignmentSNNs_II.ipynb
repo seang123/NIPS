{
  "nbformat": 4,
  "nbformat_minor": 0,
  "metadata": {
    "colab": {
      "name": "AssignmentSNNs_II.ipynb",
      "provenance": [],
      "collapsed_sections": [],
      "toc_visible": true
    },
    "kernelspec": {
      "name": "python3",
      "display_name": "Python 3"
    }
  },
  "cells": [
    {
      "cell_type": "markdown",
      "metadata": {
        "id": "F_VV6PAsL6Lu"
      },
      "source": [
        "# Spiking Neural Networks, Part II: Networks and Learning"
      ]
    },
    {
      "cell_type": "code",
      "metadata": {
        "id": "AKrXlsICKQ01"
      },
      "source": [
        "import numpy as np\n",
        "import matplotlib.pyplot as plt"
      ],
      "execution_count": null,
      "outputs": []
    },
    {
      "cell_type": "markdown",
      "metadata": {
        "id": "naiXsCa2O9cI"
      },
      "source": [
        "Note that all models described below can be solved with simple forward-Euler numerical integration."
      ]
    },
    {
      "cell_type": "markdown",
      "metadata": {
        "id": "YS-7vEi9Gtgi"
      },
      "source": [
        "## Simulating a spiking layer"
      ]
    },
    {
      "cell_type": "markdown",
      "metadata": {
        "id": "AJ0YXbK89hxv"
      },
      "source": [
        "In this section, we will create a random spike-train and stimulate an output neuron via this spike-train."
      ]
    },
    {
      "cell_type": "markdown",
      "metadata": {
        "id": "7i3Rj-CPK8x9"
      },
      "source": [
        "#### Creating random background spiking"
      ]
    },
    {
      "cell_type": "markdown",
      "metadata": {
        "id": "kkG50H-4ZEVO"
      },
      "source": [
        "The code below uses a random number generator to produce a spike train."
      ]
    },
    {
      "cell_type": "code",
      "metadata": {
        "id": "2ugwMKgpk3aQ"
      },
      "source": [
        "def create_random_spikes(nb_neurons, timestep, total_time, firing_rate, seed=42):\n",
        "  \"\"\"Generate a random spike train\n",
        "\n",
        "    Parameters\n",
        "    ----------\n",
        "      nb_neurons -- the number of neurons to create spike trains for\n",
        "      timestep -- the timestepping magnitude of your solver (ms)\n",
        "      total_time -- the total time of simulation (ms)\n",
        "      firing_rate -- the average number of spikes (per millisecond) to produce\n",
        "      seed -- a random seed for reproducibility (default=42)\n",
        "\n",
        "    Returns\n",
        "    -------\n",
        "      spikes: A binary matrix of size \"nb_neurons x (total_time / timestep)\"\n",
        "              The average number of 1s per row (per neuron) is total_time*firing_rate\n",
        "  \"\"\"\n",
        "  np.random.seed(42) # Initialising random generator for repeatability\n",
        "  nb_timesteps = int(total_time / timestep)\n",
        "  spikes_per_timestep = firing_rate*timestep\n",
        "  random_spikes = np.random.rand(nb_neurons, nb_timesteps)\n",
        "  random_spikes = random_spikes < spikes_per_timestep\n",
        "  return random_spikes"
      ],
      "execution_count": null,
      "outputs": []
    },
    {
      "cell_type": "code",
      "metadata": {
        "id": "beQJJLS7Gs6A"
      },
      "source": [
        "# Parameters of the random generation\n",
        "timestep = 0.1             # ms\n",
        "total_time = 0.1*1000      # ms\n",
        "firing_rate = 0.1  # spikes per millisecond\n",
        "nb_inputs = 2000\n",
        "\n",
        "random_spikes = create_random_spikes(nb_inputs, timestep, total_time, firing_rate)"
      ],
      "execution_count": null,
      "outputs": []
    },
    {
      "cell_type": "code",
      "metadata": {
        "id": "S4B5YPt1H8jq",
        "outputId": "109518d0-b0f0-4442-e50e-5ffa1d90701e",
        "colab": {
          "base_uri": "https://localhost:8080/",
          "height": 236
        }
      },
      "source": [
        "plt.figure(figsize=(8,2), dpi=100)\n",
        "plt.imshow(random_spikes, aspect='auto', interpolation='nearest', cmap='gray_r');\n",
        "plt.ylabel(\"Input Neuron ID\")\n",
        "plt.xlabel(\"Time (timestep)\");"
      ],
      "execution_count": null,
      "outputs": [
        {
          "output_type": "display_data",
          "data": {
            "image/png": "[encoded data removed]",
            "text/plain": [
              "<Figure size 800x200 with 1 Axes>"
            ]
          },
          "metadata": {
            "tags": [],
            "needs_background": "light"
          }
        }
      ]
    },
    {
      "cell_type": "markdown",
      "metadata": {
        "id": "p2AnDudn9xnL"
      },
      "source": [
        "### TASK 1: Simulating a single LIF neuron with input spiking activity"
      ]
    },
    {
      "cell_type": "markdown",
      "metadata": {
        "id": "Oi-Tz2dOZjMK"
      },
      "source": [
        "Below I provide a skeleton class for a layer of leaky integrate and fire neurons.\n",
        "We desire the dynamics to be those of a leaky-integrate and fire neuron.\n",
        "The membrane voltages will evolve such that:\n",
        "\n",
        "$$\n",
        "\\tau_m \\frac{dv_i(t)}{dt} = (v_{\\text{rest}} - v_i(t))\n",
        "$$\n",
        "\n",
        "We shall also simulate the inputs as so-called 'voltage-based' synapses.\n",
        "Lets assume that there exists a weight, $w_{ij}$, from input neuron $j$ to output neuron $i$.\n",
        "We shall simulate inputs such that:\n",
        "$$\n",
        "v_i \\gets v_i + w_{ij} \\text{ when neuron $j$ spikes.}\n",
        "$$\n",
        "\n",
        "If the output neuron voltage ever reaches a threshold, we shall record a spike and reset the voltage.\n",
        "This can be written:\n",
        "\n",
        "$$\n",
        "    v_i(t)= \n",
        "\\begin{cases}\n",
        "    v_{\\text{reset}} ,& \\text{(and record a spike) if } v_i(t) > v_{\\text{thresh}}\\\\\n",
        "    v_i(t),              & \\text{otherwise}\n",
        "\\end{cases}\n",
        "$$\n",
        "\n",
        "You shall now build this simple spiking system."
      ]
    },
    {
      "cell_type": "code",
      "metadata": {
        "id": "Kq2VUcbpjirW"
      },
      "source": [
        "# We define some parameters here, voltages are unitless for now\n",
        "params = {\n",
        "    'v_rest': 0.0,\n",
        "    'v_thresh': 500.0,\n",
        "    'tauM': 10.0,     #ms\n",
        "    'timestep': timestep   #ms\n",
        "}"
      ],
      "execution_count": null,
      "outputs": []
    },
    {
      "cell_type": "code",
      "metadata": {
        "id": "biEUCg4a9xA-"
      },
      "source": [
        "class LIF_layer():\n",
        "  \"\"\"A class to store internal variables of our LIF neurons and to spit out spikes\n",
        "  \"\"\"\n",
        "  def __init__(self, nb_inputs, nb_outputs, parameters, seed=42):\n",
        "    \"\"\"Initialises internal variables (weight matrix and membrane voltages)\n",
        "        \n",
        "        Parameters\n",
        "        ----------\n",
        "          nb_inputs: number of input neurons\n",
        "          nb_outputs: number of LIF neurons to simulate (receiving inputs)\n",
        "          parameters: a dictionary of parameters needed to update the internal state\n",
        "    \"\"\"\n",
        "    # State variables for this class\n",
        "    self.parameters = parameters # A dictionary of parameters\n",
        "    self.membrane_voltages = np.zeros(nb_outputs)\n",
        "    self.weight_matrix = np.random.rand(nb_outputs, nb_inputs)\n",
        "  \n",
        "  def update_states(self, input_spikes):\n",
        "    \"\"\"A method which updates the internal state of the network.\n",
        "        It steps the network dynamics forward by one timestep given some inputs.\n",
        "        \n",
        "        Parameters\n",
        "        ----------\n",
        "          input spikes: A binary vector (of length nb_inputs) indicating\n",
        "\n",
        "        Returns\n",
        "        -------\n",
        "          spikes: A binary vector (of length nb_outputs) indicating \n",
        "                    which internal neurons spiked in this timestep\n",
        "    \"\"\"\n",
        "    # WRITE CODE HERE TO UPDATE THE MEMBRANE_VOLTAGES FOR 1 TIMESTEP\n",
        "    # ALSO COMPUTE A BINARY VECTOR OF SPIKES (0 no spike, 1 spike)\n",
        "    # RETURN THE SPIKE VECTOR\n",
        "\n",
        "    # You will need to use the parameters:\n",
        "    # self.parameters['timestep'], self.parameters['tauM'], \n",
        "    # self.parameters['v_rest'], self.parameters['v_thresh']\n",
        "\n",
        "    spikes = np.zeros(len(self.membrane_voltages))\n",
        "\n",
        "    return spikes"
      ],
      "execution_count": null,
      "outputs": []
    },
    {
      "cell_type": "markdown",
      "metadata": {
        "id": "5yYtWm8PE_WR"
      },
      "source": [
        "Code has been written below to create, run and plot the model."
      ]
    },
    {
      "cell_type": "code",
      "metadata": {
        "id": "mkm-mG-j93c2"
      },
      "source": [
        "model = LIF_layer(nb_inputs, 1, params)"
      ],
      "execution_count": null,
      "outputs": []
    },
    {
      "cell_type": "code",
      "metadata": {
        "id": "VDPOD3Z7994u"
      },
      "source": [
        "out_spikes = []\n",
        "out_mem = []\n",
        "\n",
        "# Run the model state update for each timestep of our inputs\n",
        "# Store the spikes of the output neurons and a copy of the membrane voltages\n",
        "for ts in range(random_spikes.shape[1]):\n",
        "  out_mem.append(np.copy(model.membrane_voltages))\n",
        "  output_spikes = model.update_states(random_spikes[:, ts])\n",
        "  out_spikes.append(output_spikes)"
      ],
      "execution_count": null,
      "outputs": []
    },
    {
      "cell_type": "markdown",
      "metadata": {
        "id": "yRV6ZgYK83I3"
      },
      "source": [
        "The plotting code below should show the evolution of the membrane voltage and the sike train of the output neuron"
      ]
    },
    {
      "cell_type": "code",
      "metadata": {
        "id": "MGBvhD85-Zh8",
        "outputId": "9dfc5ddd-f2fa-4879-daa8-c9f4f7c45378",
        "colab": {
          "base_uri": "https://localhost:8080/",
          "height": 187
        }
      },
      "source": [
        "plt.figure(figsize=(10,2))\n",
        "plt.subplot(1,2,1);\n",
        "plt.plot(np.asarray(out_mem));\n",
        "plt.title(\"Membrane Voltage\");\n",
        "plt.xlabel(\"Time (timesteps)\");\n",
        "plt.subplot(1,2,2);\n",
        "plt.plot(np.asarray(out_spikes), color='k');\n",
        "plt.title(\"Spike Train\");\n",
        "plt.xlabel(\"Time (timesteps)\");"
      ],
      "execution_count": null,
      "outputs": [
        {
          "output_type": "display_data",
          "data": {
            "image/png": "[encoded data removed]",
            "text/plain": [
              "<Figure size 720x144 with 2 Axes>"
            ]
          },
          "metadata": {
            "tags": [],
            "needs_background": "light"
          }
        }
      ]
    },
    {
      "cell_type": "markdown",
      "metadata": {
        "id": "4Cxc19MlK77_"
      },
      "source": [
        "## **Using STDP to find repeating spiking patterns**\n",
        "\n",
        "We shall now embed a repeating pattern within some random spikes. Your task will then be to implement Spike-Timing Dependent Plasticity (STDP) -- an unsupervised method for learning. We expect that after training a single neuron will learn our repeating pattern and ignore the background (random) spikes."
      ]
    },
    {
      "cell_type": "code",
      "metadata": {
        "id": "dbnjnXPLBaya"
      },
      "source": [
        "# Creating a longer set of background random spikes\n",
        "total_time = 10.0*1000      # ms\n",
        "input_random_spikes = create_random_spikes(nb_inputs, timestep, total_time, firing_rate)\n",
        "\n",
        "# Creating a short random pattern (20ms), with a different seed\n",
        "pattern_spikes = create_random_spikes(nb_inputs, timestep, 20.0, firing_rate, seed=1)"
      ],
      "execution_count": null,
      "outputs": []
    },
    {
      "cell_type": "code",
      "metadata": {
        "id": "VqwnrsBXLLKg",
        "outputId": "3a8fa912-6cb3-40c1-b69a-9934f8fec411",
        "colab": {
          "base_uri": "https://localhost:8080/",
          "height": 253
        }
      },
      "source": [
        "plt.figure(figsize=(8,2), dpi=100)\n",
        "plt.imshow(pattern_spikes, aspect='auto', interpolation='nearest', cmap='gray_r');\n",
        "plt.ylabel(\"Input Neuron ID\")\n",
        "plt.xlabel(\"Time (timestep)\")\n",
        "plt.title(\"Repeating Pattern\");"
      ],
      "execution_count": null,
      "outputs": [
        {
          "output_type": "display_data",
          "data": {
            "image/png": "[encoded data removed]",
            "text/plain": [
              "<Figure size 800x200 with 1 Axes>"
            ]
          },
          "metadata": {
            "tags": [],
            "needs_background": "light"
          }
        }
      ]
    },
    {
      "cell_type": "markdown",
      "metadata": {
        "id": "WqiKwbMBLSPs"
      },
      "source": [
        "### Placing the repeating pattern at random places in the background spiking"
      ]
    },
    {
      "cell_type": "code",
      "metadata": {
        "id": "_Ph1DtC_LRPG"
      },
      "source": [
        "np.random.seed(43)\n",
        "num_insertions = int(10*(total_time / 1000.0)) # Inserting ten times per 1s of simulation\n",
        "insertions = np.random.randint(low=0, high=input_random_spikes.shape[1], size=num_insertions)\n",
        "insertions = np.sort(insertions)\n",
        "\n",
        "for insert in insertions:\n",
        "  input_random_spikes[:, insert:(insert + pattern_spikes.shape[1])] = pattern_spikes"
      ],
      "execution_count": null,
      "outputs": []
    },
    {
      "cell_type": "markdown",
      "metadata": {
        "id": "UwKf6ilQqljv"
      },
      "source": [
        "### TASK 2: Creating a LIF layer with STDP modifying the weights\n",
        "\n",
        "Below I define a class which has an internal state not only for the LIF neuron variables but also for variables related to STDP.\n",
        "As before, we shall simulate the dynamics of a LIF neuron (please see TASK 1 for details of the dynamics).\n",
        "Here we extend these dynamics to include Spike-Timing Dependent Plasticity (STDP).\n",
        "\n",
        "Your task is to include within the state update of our model both thedynamics of the neuron membrane voltage and also dynamics of some internal trace variables that will be used to enact STDP.\n",
        "\n",
        "In particular, STDP should operate such that there is a change in the weight from neuron indexed $j$ to neuron indexed $i$, $\\Delta w_{ij}$, based upon the time differences between all pairs of spikes in a network.\n",
        "This weight change is defined:\n",
        "\n",
        "$$\n",
        "    \\Delta w_{ij} = \n",
        "\\begin{cases}\n",
        "    A_+ e^{\\frac{\\Delta t}{\\tau_+}} ,& \\text{for all pairs of spikes where } \\Delta t \\text{ is negative}\\\\\n",
        "    -A_- e^{\\frac{-\\Delta t}{\\tau_-}},& \\text{for all other pairs of spikes.}\n",
        "\\end{cases}\n",
        "$$\n",
        "where $\\Delta t$ is the time difference between the output ($i$th) and input spike ($j$th),  $\\Delta t = t_{\\text{spike}}^j - t_{\\text{spike}}^i$.\n",
        "\n",
        "Note, as mentioned in the lectures (See Spiking Neural Networks II, slides 30-35) it is possible to carry out these pair-wise weight updates using synaptic traces instead of storing all of the spike times."
      ]
    },
    {
      "cell_type": "code",
      "metadata": {
        "id": "2RkfBVYY_IBk"
      },
      "source": [
        "stdp_params = {\n",
        "    'v_rest': 0.0,\n",
        "    'v_thresh': 500.0,\n",
        "    'tauM': 10.0,\n",
        "    'timestep': 0.1,\n",
        "    'tau_plus': 10.0,\n",
        "    'tau_minus': 10.0,\n",
        "    'A_plus': 0.005,\n",
        "    'A_minus': 1.1*0.005\n",
        "}"
      ],
      "execution_count": null,
      "outputs": []
    },
    {
      "cell_type": "code",
      "metadata": {
        "id": "GipdWxC9qk_9"
      },
      "source": [
        "class LIF_STDP_layer():\n",
        "  \"\"\"A class storing internal variables of our LIF neurons and STDP rule\n",
        "  \"\"\"\n",
        "  def __init__(self, nb_inputs, nb_outputs, parameters, seed=42):\n",
        "    \"\"\"Initialises internal variables (weight matrix and membrane voltages)\n",
        "        \n",
        "        Parameters\n",
        "        ----------\n",
        "          nb_inputs: number of input neurons\n",
        "          nb_outputs: number of LIF neurons to simulate (receiving inputs)\n",
        "          parameters: a dictionary of parameters needed to update the internal state\n",
        "    \"\"\"\n",
        "    # State variables for this class\n",
        "    self.parameters = parameters\n",
        "    self.membrane_voltages = np.zeros(nb_outputs)\n",
        "    np.random.seed(seed)\n",
        "    self.weight_matrix = 0.5*np.ones((nb_outputs, nb_inputs))\n",
        "\n",
        "    # Traces for STDP\n",
        "    self.stdp_input_traces = np.zeros(nb_inputs)\n",
        "    self.stdp_output_traces = np.zeros(nb_outputs)\n",
        "  \n",
        "  def update_states(self, input_spikes):\n",
        "    \"\"\"A method which updates the internal state of the network.\n",
        "        It steps the network dynamics forward by one timestep given some inputs.\n",
        "        \n",
        "        Parameters\n",
        "        ----------\n",
        "          input spikes: A binary vector (of length nb_inputs) indicating\n",
        "\n",
        "        Returns\n",
        "        -------\n",
        "          spikes: A binary vector (of length nb_outputs) indicating \n",
        "                    which internal neurons spiked in this timestep\n",
        "    \"\"\"\n",
        "    # WRITE CODE HERE TO UPDATE THE MEMBRANE_VOLTAGES, AND STDP TRACES FOR 1 TIMESTEP\n",
        "    # THEREAFTER, IT SHOULD UPDATE THE WEIGHT MATRIX BASED UPON THE SPIKES AND TRACES\n",
        "    # AS BEFORE IT SHOULD RETURN THE SPIKE VECTOR\n",
        "\n",
        "    # For membrane updating, you will need to use the parameters:\n",
        "    # self.parameters['timestep'], self.parameters['tauM'], \n",
        "    # self.parameters['v_rest'], self.parameters['v_thresh']\n",
        "\n",
        "    # For STDP, you will need to use the parameters:\n",
        "    # self.parameters['A_plus'], self.parameters['A_minus'], \n",
        "    # self.parameters['tau_plus'], self.parameters['tau_minus'], \n",
        "\n",
        "    spikes = np.zeros(len(self.membrane_voltages))\n",
        "\n",
        "    return spikes"
      ],
      "execution_count": null,
      "outputs": []
    },
    {
      "cell_type": "markdown",
      "metadata": {
        "id": "1hsIB2REFmrZ"
      },
      "source": [
        "As above, code is provided below to create, run and then plot the outputs of your model."
      ]
    },
    {
      "cell_type": "code",
      "metadata": {
        "id": "queeY28-seKg"
      },
      "source": [
        "stdp_model = LIF_STDP_layer(nb_inputs, 1, stdp_params)"
      ],
      "execution_count": null,
      "outputs": []
    },
    {
      "cell_type": "code",
      "metadata": {
        "id": "mJIgSOqSsfnw"
      },
      "source": [
        "out_spikes = []\n",
        "input_traces = []\n",
        "out_mem = []\n",
        "\n",
        "# Run the model state update for each timestep of our input\n",
        "# Store:   - the spikes of the output neurons\n",
        "#          - the membrane voltages\n",
        "#          - the input stdp trace (to check for sanity)\n",
        "for ts in range(input_random_spikes.shape[1]):\n",
        "  out_mem.append(np.copy(stdp_model.membrane_voltages))\n",
        "  output_spikes = stdp_model.update_states(input_random_spikes[:, ts])\n",
        "  input_traces.append(np.copy(stdp_model.stdp_input_traces))\n",
        "  out_spikes.append(output_spikes)"
      ],
      "execution_count": null,
      "outputs": []
    },
    {
      "cell_type": "code",
      "metadata": {
        "id": "I3K4qOT-EXu-",
        "outputId": "0d8a40a8-feee-4956-ac78-1c6883a45bac",
        "colab": {
          "base_uri": "https://localhost:8080/",
          "height": 167
        }
      },
      "source": [
        "plot_timesteps = 2500\n",
        "\n",
        "plt.figure(figsize=(10,2.5))\n",
        "ax = plt.subplot(2,1,1);\n",
        "ax.plot(input_random_spikes[6,:plot_timesteps], color='k');\n",
        "plt.axis('off')\n",
        "ax = plt.subplot(2,1,2);\n",
        "ax.fill_between(np.arange(plot_timesteps), 0, np.asarray(input_traces)[:plot_timesteps,6], color='k')\n",
        "plt.axis('off');"
      ],
      "execution_count": null,
      "outputs": [
        {
          "output_type": "display_data",
          "data": {
            "image/png": "[encoded data removed]",
            "text/plain": [
              "<Figure size 720x180 with 2 Axes>"
            ]
          },
          "metadata": {
            "tags": [],
            "needs_background": "light"
          }
        }
      ]
    },
    {
      "cell_type": "code",
      "metadata": {
        "id": "INvY4KXAsoEO",
        "outputId": "ed8ee19f-fa31-486c-ebe6-eeef5fabe8e3",
        "colab": {
          "base_uri": "https://localhost:8080/",
          "height": 282
        }
      },
      "source": [
        "# Plotting where the repeating patterns are\n",
        "for insert in insertions:\n",
        "  plt.plot([insert, insert+pattern_spikes.shape[1]], [510, 510], color='g')\n",
        "# Plotting network activity\n",
        "plt.plot(np.asarray(out_mem));\n",
        "plt.xlim([0, 10000])"
      ],
      "execution_count": null,
      "outputs": [
        {
          "output_type": "execute_result",
          "data": {
            "text/plain": [
              "(0.0, 10000.0)"
            ]
          },
          "metadata": {
            "tags": []
          },
          "execution_count": 107
        },
        {
          "output_type": "display_data",
          "data": {
            "image/png": "[encoded data removed]",
            "text/plain": [
              "<Figure size 432x288 with 1 Axes>"
            ]
          },
          "metadata": {
            "tags": [],
            "needs_background": "light"
          }
        }
      ]
    },
    {
      "cell_type": "code",
      "metadata": {
        "id": "xf_buVhsuOkb",
        "outputId": "b0340d62-ab7d-4dfb-f9f1-f6bb67ea1a4d",
        "colab": {
          "base_uri": "https://localhost:8080/",
          "height": 282
        }
      },
      "source": [
        "# Plotting where the repeating patterns are\n",
        "for insert in insertions:\n",
        "  plt.plot([insert, insert+pattern_spikes.shape[1]], [510, 510], color='g')\n",
        "# Plotting network activity\n",
        "plt.plot(np.asarray(out_mem));\n",
        "plt.xlim([90000, 100000])"
      ],
      "execution_count": null,
      "outputs": [
        {
          "output_type": "execute_result",
          "data": {
            "text/plain": [
              "(90000.0, 100000.0)"
            ]
          },
          "metadata": {
            "tags": []
          },
          "execution_count": 108
        },
        {
          "output_type": "display_data",
          "data": {
            "image/png": "[encoded data removed]",
            "text/plain": [
              "<Figure size 432x288 with 1 Axes>"
            ]
          },
          "metadata": {
            "tags": [],
            "needs_background": "light"
          }
        }
      ]
    },
    {
      "cell_type": "code",
      "metadata": {
        "id": "LhCpUMkQtAJT",
        "outputId": "6dd19079-714b-4d6d-9848-8906f97710cb",
        "colab": {
          "base_uri": "https://localhost:8080/",
          "height": 296
        }
      },
      "source": [
        "plt.hist(stdp_model.weight_matrix.flatten());\n",
        "plt.ylabel(\"Frequency\")\n",
        "plt.xlabel(\"Synaptic Weights\")"
      ],
      "execution_count": null,
      "outputs": [
        {
          "output_type": "execute_result",
          "data": {
            "text/plain": [
              "Text(0.5, 0, 'Synaptic Weights')"
            ]
          },
          "metadata": {
            "tags": []
          },
          "execution_count": 109
        },
        {
          "output_type": "display_data",
          "data": {
            "image/png": "[encoded data removed]",
            "text/plain": [
              "<Figure size 432x288 with 1 Axes>"
            ]
          },
          "metadata": {
            "tags": [],
            "needs_background": "light"
          }
        }
      ]
    }
  ]
}